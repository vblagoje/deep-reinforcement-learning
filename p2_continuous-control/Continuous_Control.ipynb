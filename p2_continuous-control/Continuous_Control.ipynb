{
 "cells": [
  {
   "cell_type": "markdown",
   "metadata": {},
   "source": [
    "# Continuous Control\n",
    "\n",
    "---\n",
    "\n",
    "In this notebook, you will learn how to use the Unity ML-Agents environment for the second project of the [Deep Reinforcement Learning Nanodegree](https://www.udacity.com/course/deep-reinforcement-learning-nanodegree--nd893) program.\n",
    "\n",
    "### 1. Start the Environment\n",
    "\n",
    "We begin by importing the necessary packages.  If the code cell below returns an error, please revisit the project instructions to double-check that you have installed [Unity ML-Agents](https://github.com/Unity-Technologies/ml-agents/blob/master/docs/Installation.md) and [NumPy](http://www.numpy.org/)."
   ]
  },
  {
   "cell_type": "code",
   "execution_count": 1,
   "metadata": {},
   "outputs": [],
   "source": [
    "from unityagents import UnityEnvironment\n",
    "import torch\n",
    "import numpy as np\n",
    "from collections import namedtuple, deque\n",
    "from ddpg_agent import Agent \n",
    "\n",
    "import matplotlib.pyplot as plt\n",
    "%matplotlib inline"
   ]
  },
  {
   "cell_type": "markdown",
   "metadata": {},
   "source": [
    "Next, we will start the environment!  **_Before running the code cell below_**, change the `file_name` parameter to match the location of the Unity environment that you downloaded.\n",
    "\n",
    "- **Mac**: `\"path/to/Reacher.app\"`\n",
    "- **Windows** (x86): `\"path/to/Reacher_Windows_x86/Reacher.exe\"`\n",
    "- **Windows** (x86_64): `\"path/to/Reacher_Windows_x86_64/Reacher.exe\"`\n",
    "- **Linux** (x86): `\"path/to/Reacher_Linux/Reacher.x86\"`\n",
    "- **Linux** (x86_64): `\"path/to/Reacher_Linux/Reacher.x86_64\"`\n",
    "- **Linux** (x86, headless): `\"path/to/Reacher_Linux_NoVis/Reacher.x86\"`\n",
    "- **Linux** (x86_64, headless): `\"path/to/Reacher_Linux_NoVis/Reacher.x86_64\"`\n",
    "\n",
    "For instance, if you are using a Mac, then you downloaded `Reacher.app`.  If this file is in the same folder as the notebook, then the line below should appear as follows:\n",
    "```\n",
    "env = UnityEnvironment(file_name=\"Reacher.app\")\n",
    "```"
   ]
  },
  {
   "cell_type": "code",
   "execution_count": 2,
   "metadata": {},
   "outputs": [
    {
     "name": "stderr",
     "output_type": "stream",
     "text": [
      "INFO:unityagents:\n",
      "'Academy' started successfully!\n",
      "Unity Academy name: Academy\n",
      "        Number of Brains: 1\n",
      "        Number of External Brains : 1\n",
      "        Lesson number : 0\n",
      "        Reset Parameters :\n",
      "\t\tgoal_speed -> 1.0\n",
      "\t\tgoal_size -> 5.0\n",
      "Unity brain name: ReacherBrain\n",
      "        Number of Visual Observations (per agent): 0\n",
      "        Vector Observation space type: continuous\n",
      "        Vector Observation space size (per agent): 33\n",
      "        Number of stacked Vector Observation: 1\n",
      "        Vector Action space type: continuous\n",
      "        Vector Action space size (per agent): 4\n",
      "        Vector Action descriptions: , , , \n"
     ]
    }
   ],
   "source": [
    "env = UnityEnvironment(file_name='Reacher.app')"
   ]
  },
  {
   "cell_type": "markdown",
   "metadata": {},
   "source": [
    "Environments contain **_brains_** which are responsible for deciding the actions of their associated agents. Here we check for the first brain available, and set it as the default brain we will be controlling from Python."
   ]
  },
  {
   "cell_type": "code",
   "execution_count": 3,
   "metadata": {},
   "outputs": [],
   "source": [
    "# get the default brain\n",
    "brain_name = env.brain_names[0]\n",
    "brain = env.brains[brain_name]"
   ]
  },
  {
   "cell_type": "markdown",
   "metadata": {},
   "source": [
    "### 2. Examine the State and Action Spaces\n",
    "\n",
    "In this environment, a double-jointed arm can move to target locations. A reward of `+0.1` is provided for each step that the agent's hand is in the goal location. Thus, the goal of your agent is to maintain its position at the target location for as many time steps as possible.\n",
    "\n",
    "The observation space consists of `33` variables corresponding to position, rotation, velocity, and angular velocities of the arm.  Each action is a vector with four numbers, corresponding to torque applicable to two joints.  Every entry in the action vector must be a number between `-1` and `1`.\n",
    "\n",
    "Run the code cell below to print some information about the environment."
   ]
  },
  {
   "cell_type": "code",
   "execution_count": 4,
   "metadata": {},
   "outputs": [
    {
     "name": "stdout",
     "output_type": "stream",
     "text": [
      "Number of agents: 20\n",
      "Size of each action: 4\n",
      "There are 20 agents. Each observes a state with length: 33\n",
      "The state for the first agent looks like: [ 0.00000000e+00 -4.00000000e+00  0.00000000e+00  1.00000000e+00\n",
      " -0.00000000e+00 -0.00000000e+00 -4.37113883e-08  0.00000000e+00\n",
      "  0.00000000e+00  0.00000000e+00  0.00000000e+00  0.00000000e+00\n",
      "  0.00000000e+00  0.00000000e+00 -1.00000000e+01  0.00000000e+00\n",
      "  1.00000000e+00 -0.00000000e+00 -0.00000000e+00 -4.37113883e-08\n",
      "  0.00000000e+00  0.00000000e+00  0.00000000e+00  0.00000000e+00\n",
      "  0.00000000e+00  0.00000000e+00  5.75471878e+00 -1.00000000e+00\n",
      "  5.55726624e+00  0.00000000e+00  1.00000000e+00  0.00000000e+00\n",
      " -1.68164849e-01]\n"
     ]
    }
   ],
   "source": [
    "# reset the environment\n",
    "env_info = env.reset(train_mode=True)[brain_name]\n",
    "\n",
    "# number of agents\n",
    "num_agents = len(env_info.agents)\n",
    "print('Number of agents:', num_agents)\n",
    "\n",
    "# size of each action\n",
    "action_size = brain.vector_action_space_size\n",
    "print('Size of each action:', action_size)\n",
    "\n",
    "# examine the state space \n",
    "states = env_info.vector_observations\n",
    "state_size = states.shape[1]\n",
    "print('There are {} agents. Each observes a state with length: {}'.format(states.shape[0], state_size))\n",
    "print('The state for the first agent looks like:', states[0])"
   ]
  },
  {
   "cell_type": "markdown",
   "metadata": {},
   "source": [
    "### 3. Setup DDPG agent hyperparameters\n",
    "\n"
   ]
  },
  {
   "cell_type": "code",
   "execution_count": 5,
   "metadata": {},
   "outputs": [],
   "source": [
    "BATCH_SIZE = 256        \n",
    "BUFFER_SIZE = int(1e5)  \n",
    "GAMMA = 0.99            \n",
    "LR_ACTOR = 1e-4         \n",
    "LR_CRITIC = 1e-4        \n",
    "TAU = 1e-3                    \n",
    "\n",
    "device = torch.device(\"cuda:0\" if torch.cuda.is_available() else \"cpu\")\n",
    "\n",
    "agent = Agent(num_agents, state_size, action_size, random_seed=0, \n",
    "              gamma=GAMMA, tau=TAU, replay_buffer_size=BUFFER_SIZE,\n",
    "              batch_size=BATCH_SIZE, lr_actor=LR_ACTOR, lr_critic=LR_CRITIC)\n",
    "\n"
   ]
  },
  {
   "cell_type": "markdown",
   "metadata": {},
   "source": [
    "### 4. Train DDPG agent \n"
   ]
  },
  {
   "cell_type": "code",
   "execution_count": 6,
   "metadata": {},
   "outputs": [],
   "source": [
    "def ddpg(n_episodes=1000, queue=100, eps_start=1.0, eps_end=0.01, eps_decay=0.95, target_score=30.0):\n",
    "    all_scores = []                        \n",
    "    scores_window = deque(maxlen=queue)\n",
    "    eps = eps_start\n",
    "    for episode in range(1, n_episodes+1):        \n",
    "        env_info = env.reset(train_mode=True)[brain_name]      \n",
    "        states = env_info.vector_observations\n",
    "        agent.reset()\n",
    "        scores = np.zeros(num_agents)\n",
    "        while True:\n",
    "            actions = agent.act(states, eps)                        \n",
    "            env_info = env.step(actions)[brain_name]           \n",
    "            next_states = env_info.vector_observations         \n",
    "            rewards = env_info.rewards                         \n",
    "            dones = env_info.local_done                        \n",
    "            agent.step(states, actions, rewards, next_states, dones)\n",
    "            scores += rewards                                  \n",
    "            states = next_states                               \n",
    "            if np.any(dones):                                  \n",
    "                break\n",
    "\n",
    "        eps = max(eps_end, eps_decay*eps)\n",
    "        current_episode_avg = np.mean(scores)\n",
    "        scores_window.append(current_episode_avg)\n",
    "        all_scores.append(current_episode_avg)\n",
    "        avg_reward = np.mean(scores_window)        \n",
    "        print('\\rEpisode {}\\tAverage Score: {:.2f}\\t Total Average Score {:.2f}'.format(episode, current_episode_avg, avg_reward))\n",
    "        if avg_reward >= target_score and len(scores_window) >= 100:\n",
    "            print('\\nEnvironment solved in {} episodes!\\tAverage Score: {:.2f}'.format(episode, avg_reward))\n",
    "            torch.save(agent.actor_local.state_dict(), 'actor_model.pth')\n",
    "            torch.save(agent.critic_local.state_dict(), 'critic_model.pth')\n",
    "            break\n",
    "    return all_scores"
   ]
  },
  {
   "cell_type": "code",
   "execution_count": 7,
   "metadata": {},
   "outputs": [
    {
     "name": "stdout",
     "output_type": "stream",
     "text": [
      "Episode 1\tAverage Score: 0.65\t Total Average Score 0.65\n",
      "Episode 2\tAverage Score: 1.13\t Total Average Score 0.89\n",
      "Episode 3\tAverage Score: 0.81\t Total Average Score 0.86\n",
      "Episode 4\tAverage Score: 1.03\t Total Average Score 0.91\n",
      "Episode 5\tAverage Score: 0.86\t Total Average Score 0.90\n",
      "Episode 6\tAverage Score: 0.93\t Total Average Score 0.90\n",
      "Episode 7\tAverage Score: 1.40\t Total Average Score 0.97\n",
      "Episode 8\tAverage Score: 1.15\t Total Average Score 1.00\n",
      "Episode 9\tAverage Score: 1.64\t Total Average Score 1.07\n",
      "Episode 10\tAverage Score: 1.61\t Total Average Score 1.12\n",
      "Episode 11\tAverage Score: 2.17\t Total Average Score 1.22\n",
      "Episode 12\tAverage Score: 2.43\t Total Average Score 1.32\n",
      "Episode 13\tAverage Score: 4.06\t Total Average Score 1.53\n",
      "Episode 14\tAverage Score: 5.32\t Total Average Score 1.80\n",
      "Episode 15\tAverage Score: 8.32\t Total Average Score 2.23\n",
      "Episode 16\tAverage Score: 12.95\t Total Average Score 2.90\n",
      "Episode 17\tAverage Score: 13.73\t Total Average Score 3.54\n",
      "Episode 18\tAverage Score: 19.32\t Total Average Score 4.42\n",
      "Episode 19\tAverage Score: 27.22\t Total Average Score 5.62\n",
      "Episode 20\tAverage Score: 29.57\t Total Average Score 6.82\n",
      "Episode 21\tAverage Score: 34.09\t Total Average Score 8.11\n",
      "Episode 22\tAverage Score: 35.99\t Total Average Score 9.38\n",
      "Episode 23\tAverage Score: 37.49\t Total Average Score 10.60\n",
      "Episode 24\tAverage Score: 38.40\t Total Average Score 11.76\n",
      "Episode 25\tAverage Score: 38.79\t Total Average Score 12.84\n",
      "Episode 26\tAverage Score: 39.06\t Total Average Score 13.85\n",
      "Episode 27\tAverage Score: 39.30\t Total Average Score 14.79\n",
      "Episode 28\tAverage Score: 39.29\t Total Average Score 15.67\n",
      "Episode 29\tAverage Score: 39.50\t Total Average Score 16.49\n",
      "Episode 30\tAverage Score: 39.15\t Total Average Score 17.25\n",
      "Episode 31\tAverage Score: 39.36\t Total Average Score 17.96\n",
      "Episode 32\tAverage Score: 39.35\t Total Average Score 18.63\n",
      "Episode 33\tAverage Score: 39.27\t Total Average Score 19.25\n",
      "Episode 34\tAverage Score: 38.69\t Total Average Score 19.82\n",
      "Episode 35\tAverage Score: 38.74\t Total Average Score 20.37\n",
      "Episode 36\tAverage Score: 39.26\t Total Average Score 20.89\n",
      "Episode 37\tAverage Score: 39.42\t Total Average Score 21.39\n",
      "Episode 38\tAverage Score: 39.38\t Total Average Score 21.86\n",
      "Episode 39\tAverage Score: 39.49\t Total Average Score 22.32\n",
      "Episode 40\tAverage Score: 39.35\t Total Average Score 22.74\n",
      "Episode 41\tAverage Score: 38.92\t Total Average Score 23.14\n",
      "Episode 42\tAverage Score: 39.38\t Total Average Score 23.52\n",
      "Episode 43\tAverage Score: 39.39\t Total Average Score 23.89\n",
      "Episode 44\tAverage Score: 39.12\t Total Average Score 24.24\n",
      "Episode 45\tAverage Score: 37.78\t Total Average Score 24.54\n",
      "Episode 46\tAverage Score: 38.50\t Total Average Score 24.84\n",
      "Episode 47\tAverage Score: 36.89\t Total Average Score 25.10\n",
      "Episode 48\tAverage Score: 37.78\t Total Average Score 25.36\n",
      "Episode 49\tAverage Score: 38.48\t Total Average Score 25.63\n",
      "Episode 50\tAverage Score: 37.59\t Total Average Score 25.87\n",
      "Episode 51\tAverage Score: 38.59\t Total Average Score 26.12\n",
      "Episode 52\tAverage Score: 38.60\t Total Average Score 26.36\n",
      "Episode 53\tAverage Score: 38.07\t Total Average Score 26.58\n",
      "Episode 54\tAverage Score: 38.88\t Total Average Score 26.81\n",
      "Episode 55\tAverage Score: 38.52\t Total Average Score 27.02\n",
      "Episode 56\tAverage Score: 39.12\t Total Average Score 27.24\n",
      "Episode 57\tAverage Score: 37.21\t Total Average Score 27.41\n",
      "Episode 58\tAverage Score: 37.71\t Total Average Score 27.59\n",
      "Episode 59\tAverage Score: 38.18\t Total Average Score 27.77\n",
      "Episode 60\tAverage Score: 37.99\t Total Average Score 27.94\n",
      "Episode 61\tAverage Score: 39.04\t Total Average Score 28.12\n",
      "Episode 62\tAverage Score: 38.99\t Total Average Score 28.30\n",
      "Episode 63\tAverage Score: 38.25\t Total Average Score 28.46\n",
      "Episode 64\tAverage Score: 35.29\t Total Average Score 28.56\n",
      "Episode 65\tAverage Score: 34.89\t Total Average Score 28.66\n",
      "Episode 66\tAverage Score: 36.34\t Total Average Score 28.78\n",
      "Episode 67\tAverage Score: 37.47\t Total Average Score 28.91\n",
      "Episode 68\tAverage Score: 37.59\t Total Average Score 29.03\n",
      "Episode 69\tAverage Score: 37.76\t Total Average Score 29.16\n",
      "Episode 70\tAverage Score: 38.47\t Total Average Score 29.29\n",
      "Episode 71\tAverage Score: 34.84\t Total Average Score 29.37\n",
      "Episode 72\tAverage Score: 36.03\t Total Average Score 29.46\n",
      "Episode 73\tAverage Score: 36.18\t Total Average Score 29.56\n",
      "Episode 74\tAverage Score: 37.64\t Total Average Score 29.66\n",
      "Episode 75\tAverage Score: 37.10\t Total Average Score 29.76\n",
      "Episode 76\tAverage Score: 36.82\t Total Average Score 29.86\n",
      "Episode 77\tAverage Score: 36.49\t Total Average Score 29.94\n",
      "Episode 78\tAverage Score: 35.96\t Total Average Score 30.02\n",
      "Episode 79\tAverage Score: 37.65\t Total Average Score 30.12\n",
      "Episode 80\tAverage Score: 38.54\t Total Average Score 30.22\n",
      "Episode 81\tAverage Score: 38.19\t Total Average Score 30.32\n",
      "Episode 82\tAverage Score: 38.22\t Total Average Score 30.42\n",
      "Episode 83\tAverage Score: 37.50\t Total Average Score 30.50\n",
      "Episode 84\tAverage Score: 37.60\t Total Average Score 30.59\n",
      "Episode 85\tAverage Score: 37.06\t Total Average Score 30.66\n",
      "Episode 86\tAverage Score: 38.03\t Total Average Score 30.75\n",
      "Episode 87\tAverage Score: 37.63\t Total Average Score 30.83\n",
      "Episode 88\tAverage Score: 38.15\t Total Average Score 30.91\n",
      "Episode 89\tAverage Score: 37.76\t Total Average Score 30.99\n",
      "Episode 90\tAverage Score: 36.75\t Total Average Score 31.05\n",
      "Episode 91\tAverage Score: 38.08\t Total Average Score 31.13\n",
      "Episode 92\tAverage Score: 36.64\t Total Average Score 31.19\n",
      "Episode 93\tAverage Score: 37.42\t Total Average Score 31.26\n",
      "Episode 94\tAverage Score: 37.86\t Total Average Score 31.33\n",
      "Episode 95\tAverage Score: 38.20\t Total Average Score 31.40\n",
      "Episode 96\tAverage Score: 37.93\t Total Average Score 31.47\n",
      "Episode 97\tAverage Score: 34.74\t Total Average Score 31.50\n",
      "Episode 98\tAverage Score: 36.05\t Total Average Score 31.55\n",
      "Episode 99\tAverage Score: 37.04\t Total Average Score 31.60\n",
      "Episode 100\tAverage Score: 36.87\t Total Average Score 31.65\n",
      "\n",
      "Environment solved in 100 episodes!\tAverage Score: 31.65\n"
     ]
    }
   ],
   "source": [
    "scores = ddpg()"
   ]
  },
  {
   "cell_type": "markdown",
   "metadata": {},
   "source": [
    "### 5. Plot last 100 episodes\n"
   ]
  },
  {
   "cell_type": "code",
   "execution_count": 8,
   "metadata": {},
   "outputs": [
    {
     "data": {
      "image/png": "[encoded data removed]",
      "text/plain": [
       "<Figure size 432x288 with 1 Axes>"
      ]
     },
     "metadata": {},
     "output_type": "display_data"
    }
   ],
   "source": [
    "fig = plt.figure()\n",
    "ax = fig.add_subplot(111)\n",
    "plt.plot(np.arange(1, len(scores)+1), scores)\n",
    "plt.ylabel('Score')\n",
    "plt.xlabel('Episode #')\n",
    "plt.show()"
   ]
  },
  {
   "cell_type": "markdown",
   "metadata": {},
   "source": [
    "### 6. Load the saved agent and run it!"
   ]
  },
  {
   "cell_type": "code",
   "execution_count": 10,
   "metadata": {},
   "outputs": [],
   "source": [
    "agent.actor_local.load_state_dict(torch.load('actor_model.pth'))\n",
    "agent.critic_local.load_state_dict(torch.load('critic_model.pth'))\n",
    "\n",
    "env_info = env.reset(train_mode=False)[brain_name]        \n",
    "states = env_info.vector_observations                  \n",
    "scores = np.zeros(num_agents)                          \n",
    "\n",
    "for i in range(1000):\n",
    "    actions = agent.act(states, 1.0)                    \n",
    "    env_info = env.step(actions)[brain_name]        \n",
    "    next_states = env_info.vector_observations        \n",
    "    rewards = env_info.rewards                        \n",
    "    dones = env_info.local_done                 \n",
    "    scores += rewards                         \n",
    "    states = next_states                              \n",
    "    if np.any(dones):                              \n",
    "        break\n",
    "        \n",
    "env.close()        "
   ]
  },
  {
   "cell_type": "code",
   "execution_count": null,
   "metadata": {},
   "outputs": [],
   "source": []
  }
 ],
 "metadata": {
  "kernelspec": {
   "display_name": "drlnd",
   "language": "python",
   "name": "drlnd"
  },
  "language_info": {
   "codemirror_mode": {
    "name": "ipython",
    "version": 3
   },
   "file_extension": ".py",
   "mimetype": "text/x-python",
   "name": "python",
   "nbconvert_exporter": "python",
   "pygments_lexer": "ipython3",
   "version": "3.6.6"
  }
 },
 "nbformat": 4,
 "nbformat_minor": 2
}
